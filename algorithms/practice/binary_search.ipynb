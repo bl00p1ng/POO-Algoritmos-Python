{
 "metadata": {
  "language_info": {
   "codemirror_mode": {
    "name": "ipython",
    "version": 3
   },
   "file_extension": ".py",
   "mimetype": "text/x-python",
   "name": "python",
   "nbconvert_exporter": "python",
   "pygments_lexer": "ipython3",
   "version": "3.8.5-final"
  },
  "orig_nbformat": 2,
  "kernelspec": {
   "name": "python3",
   "display_name": "Python 3.8.5 64-bit ('base': conda)",
   "metadata": {
    "interpreter": {
     "hash": "0b2f8dbf0b57b8bf044e67a58ab62fb7d7eddb3a947c0d8f65f20e027acb81aa"
    }
   }
  }
 },
 "nbformat": 4,
 "nbformat_minor": 2,
 "cells": [
  {
   "cell_type": "code",
   "execution_count": 1,
   "metadata": {},
   "outputs": [],
   "source": [
    "import random"
   ]
  },
  {
   "cell_type": "code",
   "execution_count": 2,
   "metadata": {},
   "outputs": [],
   "source": [
    "# Definir el número de elementos que tendrá la lista\n",
    "list_length = int(input('Define el número de elementos que tendrá la lista: '))"
   ]
  },
  {
   "cell_type": "code",
   "execution_count": 3,
   "metadata": {},
   "outputs": [],
   "source": [
    "# Establece el elemento que se va a buscar dentro de la lista\n",
    "objective = int(input('Qué elemento quieres buscar? '))"
   ]
  },
  {
   "cell_type": "code",
   "execution_count": 4,
   "metadata": {},
   "outputs": [
    {
     "output_type": "stream",
     "name": "stdout",
     "text": [
      "[1, 2, 2, 5, 7, 8, 8, 10, 10, 10, 11, 12, 13, 14, 15, 16, 17, 17, 17, 19, 20, 21, 22, 22, 24, 25, 26, 29, 29, 30, 32, 33, 33, 33, 35, 36, 36, 36, 37, 38, 39, 40, 41, 44, 46, 48, 49, 49, 50, 52, 52, 52, 53, 55, 56, 57, 58, 58, 59, 59, 60, 62, 62, 63, 63, 63, 63, 64, 64, 65, 65, 65, 69, 69, 71, 74, 75, 75, 75, 76, 79, 79, 81, 81, 82, 85, 85, 86, 86, 88, 89, 90, 90, 94, 94, 96, 96, 99, 100, 100]\n"
     ]
    }
   ],
   "source": [
    "# Crea una lista compuesta por números generados aleatoriamente\n",
    "random_list = sorted([random.randint(1, 100) for i in range(list_length)])\n",
    "print(random_list)"
   ]
  },
  {
   "source": [
    "def binary_search(elements_list, start, end, objective):\n",
    "    # Si el inicio es mayor del final esto indica que el incio se desbordo porque después de buscar en la lista no encontró el objetivo\n",
    "    if start > end:\n",
    "        return False\n",
    "\n",
    "    middle = (start + end) // 2\n",
    "\n",
    "    if elements_list[middle] == objective:\n",
    "        return  True\n",
    "\n",
    "    # Si el elemento del medio es menor que el objetivo se vuelve a  ejecuta la función esta vez empezando desde desde de la mitad + 1, es decir la mitad superirior en donde están los los números mayores \n",
    "    elif elements_list[middle] < objective:\n",
    "        return binary_search(elements_list, middle + 1, end, objective)\n",
    "\n",
    "    # Si no se cumple la condición anterior se vuelve a  ejecuta la función el final será la mitad -1, es decir la mitad inferior en donde están los los números menores\n",
    "    else:\n",
    "        return binary_search(elements_list, start, middle - 1, objective)"
   ],
   "cell_type": "code",
   "metadata": {},
   "execution_count": null,
   "outputs": []
  },
  {
   "cell_type": "code",
   "execution_count": 6,
   "metadata": {},
   "outputs": [
    {
     "output_type": "stream",
     "name": "stdout",
     "text": [
      "0 100\n51 100\n76 100\n89 100\n95 100\n98 100\nEl número 100 esta en la lista\n"
     ]
    }
   ],
   "source": [
    "# Mostar resultado\n",
    "is_found = binary_search(random_list, 0, len(random_list), objective)\n",
    "print(f'El número {objective} {\"esta\" if is_found else \"no esta\"} en la lista')"
   ]
  }
 ]
}