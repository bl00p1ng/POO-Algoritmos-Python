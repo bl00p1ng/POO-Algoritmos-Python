{
 "metadata": {
  "language_info": {
   "codemirror_mode": {
    "name": "ipython",
    "version": 3
   },
   "file_extension": ".py",
   "mimetype": "text/x-python",
   "name": "python",
   "nbconvert_exporter": "python",
   "pygments_lexer": "ipython3",
   "version": "3.8.5-final"
  },
  "orig_nbformat": 2,
  "kernelspec": {
   "name": "python3",
   "display_name": "Python 3.8.5 64-bit ('base': conda)",
   "metadata": {
    "interpreter": {
     "hash": "0b2f8dbf0b57b8bf044e67a58ab62fb7d7eddb3a947c0d8f65f20e027acb81aa"
    }
   }
  }
 },
 "nbformat": 4,
 "nbformat_minor": 2,
 "cells": [
  {
   "source": [
    "# Ordenamiento por Inserción (Insertion Sort)\n",
    "**Complejidad Algoritmica:** O(n²)\n",
    "\n",
    "En este algoritmo se ordena *\"en su lugar\"*, es decir que no se crea una nueva lista con los elementos ordenados si no que en lugar de eso se modifican los valores en memoria.\n",
    "\n",
    "## Funcionamiento\n",
    "1. El primer elemento esta ordenado por defición, el resto de elementos de la lista se ordenarán a partir de este.\n",
    "2. Se recorren los demás elementos, comparándolos con el que esta ordenado por definición. Si el elemento que se esta comparando es **mayor** que uno de los elementos ya ordenados se mueve dicho elemento un índice a la derecha y se inserta el nuevo elemento\n",
    "3. Se repite el paso anterior con los todos los elementos de la lista, es decir, se toma un elemento sin ordenar, se compara con cada uno de los que no están ordenados y se inserta en el lugar correspondiente."
   ],
   "cell_type": "markdown",
   "metadata": {}
  },
  {
   "source": [
    "## Implementación\n",
    "1. Crear la lista con los elementos que se quieren ordenar"
   ],
   "cell_type": "markdown",
   "metadata": {}
  },
  {
   "cell_type": "code",
   "execution_count": 1,
   "metadata": {},
   "outputs": [],
   "source": [
    "elements_list = [3, 14, 5, 2, 1, 8, 13, 24]"
   ]
  },
  {
   "source": [
    "2. Recorrer los elementos e irlos ordenando en base a los elementos que ya están ordenados."
   ],
   "cell_type": "markdown",
   "metadata": {}
  },
  {
   "cell_type": "code",
   "execution_count": 2,
   "metadata": {},
   "outputs": [
    {
     "output_type": "stream",
     "name": "stdout",
     "text": [
      "FOR: current_value = 14\tcurrent_position = 1\n[3, 14, 5, 2, 1, 8, 13, 24]\nFOR: current_value = 5\tcurrent_position = 2\n--> WHILE: current_value = 5\tcurrent_position = 1\n[3, 5, 14, 2, 1, 8, 13, 24]\nFOR: current_value = 2\tcurrent_position = 3\n--> WHILE: current_value = 2\tcurrent_position = 2\n--> WHILE: current_value = 2\tcurrent_position = 1\n--> WHILE: current_value = 2\tcurrent_position = 0\n[2, 3, 5, 14, 1, 8, 13, 24]\nFOR: current_value = 1\tcurrent_position = 4\n--> WHILE: current_value = 1\tcurrent_position = 3\n--> WHILE: current_value = 1\tcurrent_position = 2\n--> WHILE: current_value = 1\tcurrent_position = 1\n--> WHILE: current_value = 1\tcurrent_position = 0\n[1, 2, 3, 5, 14, 8, 13, 24]\nFOR: current_value = 8\tcurrent_position = 5\n--> WHILE: current_value = 8\tcurrent_position = 4\n[1, 2, 3, 5, 8, 14, 13, 24]\nFOR: current_value = 13\tcurrent_position = 6\n--> WHILE: current_value = 13\tcurrent_position = 5\n[1, 2, 3, 5, 8, 13, 14, 24]\nFOR: current_value = 24\tcurrent_position = 7\n[1, 2, 3, 5, 8, 13, 14, 24]\n"
     ]
    }
   ],
   "source": [
    "# Recorre los elementos de la lista saltandose el primero pues este esta ordenado por definición\n",
    "for i in range(1, len(elements_list)):\n",
    "    current_value = elements_list[i]\n",
    "    current_position = i\n",
    "\n",
    "    print(f'FOR: current_value = {current_value}\\tcurrent_position = {current_position}')\n",
    "\n",
    "    # Mientras la posición actual sea > 0 y el elemento anterior sea mayor que el elemento actual\n",
    "    # se hace un intercambio\n",
    "    while current_position > 0 and elements_list[current_position - 1] > current_value:\n",
    "        # Pasa el elemento actual a la posición  anterior\n",
    "        elements_list[current_position] = elements_list[current_position - 1]\n",
    "\n",
    "        # Se decrementa esta variable para evitar que se asignen elementos a índices \n",
    "        # que no existen y el array se desborde.\n",
    "        # Por ejemplo, en caso de que todos los elementos anteriores sean mayores al \n",
    "        # elemento actual el while se ejecutará hasta poner el elemento actual \n",
    "        # en la primera posición y luego se detendrá\n",
    "        current_position -= 1 \n",
    "\n",
    "        print(f'--> WHILE: current_value = {current_value}\\tcurrent_position = {current_position}')\n",
    "    \n",
    "    # Dado que si se entra en el while los elementos se corren una posición a la izquierda \n",
    "    # esta línea se encarga de asignar el valor actual al espacio que quedaría cada vez \n",
    "    # que se intercabien los elementos en el while\n",
    "    elements_list[current_position] = current_value\n",
    "    print(elements_list)"
   ]
  },
  {
   "source": [
    "3. Imprimir la lista ordenada"
   ],
   "cell_type": "markdown",
   "metadata": {}
  },
  {
   "cell_type": "code",
   "execution_count": 3,
   "metadata": {},
   "outputs": [
    {
     "output_type": "stream",
     "name": "stdout",
     "text": [
      "[1, 2, 3, 5, 8, 13, 14, 24]\n"
     ]
    }
   ],
   "source": [
    "print(elements_list)"
   ]
  }
 ]
}