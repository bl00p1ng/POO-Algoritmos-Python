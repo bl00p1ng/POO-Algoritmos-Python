{
 "metadata": {
  "language_info": {
   "codemirror_mode": {
    "name": "ipython",
    "version": 3
   },
   "file_extension": ".py",
   "mimetype": "text/x-python",
   "name": "python",
   "nbconvert_exporter": "python",
   "pygments_lexer": "ipython3",
   "version": "3.8.5-final"
  },
  "orig_nbformat": 2,
  "kernelspec": {
   "name": "python3",
   "display_name": "Python 3.8.5 64-bit ('anaconda3': virtualenv)",
   "metadata": {
    "interpreter": {
     "hash": "0b2f8dbf0b57b8bf044e67a58ab62fb7d7eddb3a947c0d8f65f20e027acb81aa"
    }
   }
  }
 },
 "nbformat": 4,
 "nbformat_minor": 2,
 "cells": [
  {
   "source": [
    "# Ordenamiento de Burbuja (Bubble Sort)\n",
    "__Complejidad Algoritmica:__ O(n²)\n",
    "\n",
    "En este algoritmo se recorre la lista comparando los elementos adyacentes e intercalandolos si están el orden incorrecto. Este proceso proceso se repite hasta que todos los elementos de la lista estén ordenados, en resumén la lista se recorre una vez por cada elemento dentro de ella."
   ],
   "cell_type": "markdown",
   "metadata": {}
  },
  {
   "cell_type": "code",
   "execution_count": 1,
   "metadata": {},
   "outputs": [],
   "source": [
    "import random"
   ]
  },
  {
   "source": [
    "1. Se define la longitud que va a tener la lista desordenada"
   ],
   "cell_type": "markdown",
   "metadata": {}
  },
  {
   "cell_type": "code",
   "execution_count": 2,
   "metadata": {},
   "outputs": [],
   "source": [
    "list_length = int(input('Define la longitud de la lista: '))"
   ]
  },
  {
   "source": [
    "2. Se crea la lista aleatoria"
   ],
   "cell_type": "markdown",
   "metadata": {}
  },
  {
   "cell_type": "code",
   "execution_count": 3,
   "metadata": {},
   "outputs": [
    {
     "output_type": "stream",
     "name": "stdout",
     "text": [
      "Lista sin ordenar: [12, 91, 36, 52, 45, 44, 27, 33, 69, 55]\n"
     ]
    }
   ],
   "source": [
    "random_list = [random.randint(1, 100) for i in range(list_length)]\n",
    "print(f'Lista sin ordenar: {random_list}')"
   ]
  },
  {
   "source": [
    "3. Se implementa el algoritmo de ordenamiento de burbuja. La función va a recibir una lista de elementos desordenada y retornará otra lista con los elementos debidamnete ordenados"
   ],
   "cell_type": "markdown",
   "metadata": {}
  },
  {
   "cell_type": "code",
   "execution_count": 4,
   "metadata": {},
   "outputs": [],
   "source": [
    "def bubble_sort(elements_list):\n",
    "    # Almacena la longitud de la lista para poder iterar a lo largo de esta\n",
    "    n = len(elements_list)\n",
    "\n",
    "    # Recorre cada elemento de la lista\n",
    "    for i in range(n):\n",
    "        # Recorre la lista nuevamente por cada elemento dentro de la misma\n",
    "        # En cada iteración se descuenta i para no recorrer la lista hasta el final pues al final \n",
    "        # quedan los elementos que ya están ordenados. También se descuenta 1 porque el valor de n \n",
    "        # proviene de un len()\n",
    "        for j in range(0, n - i - 1):\n",
    "            # Evalua si el elemento en la primera posición es mayor que el elemento que sigue\n",
    "            # Si la condición se cumple se intercambian los elementos\n",
    "            if elements_list[j] > elements_list[j + 1]:\n",
    "                elements_list[j], elements_list[j + 1] = elements_list[j + 1], elements_list[j]\n",
    "    return elements_list"
   ]
  },
  {
   "source": [
    "4. Se imprime la lista ordenada"
   ],
   "cell_type": "markdown",
   "metadata": {}
  },
  {
   "cell_type": "code",
   "execution_count": 5,
   "metadata": {},
   "outputs": [
    {
     "output_type": "stream",
     "name": "stdout",
     "text": [
      "[12, 27, 33, 36, 44, 45, 52, 55, 69, 91]\n"
     ]
    }
   ],
   "source": [
    "ordered_list = bubble_sort(random_list)\n",
    "print(ordered_list)"
   ]
  }
 ]
}