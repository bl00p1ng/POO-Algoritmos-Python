{
 "metadata": {
  "language_info": {
   "codemirror_mode": {
    "name": "ipython",
    "version": 3
   },
   "file_extension": ".py",
   "mimetype": "text/x-python",
   "name": "python",
   "nbconvert_exporter": "python",
   "pygments_lexer": "ipython3",
   "version": "3.8.5-final"
  },
  "orig_nbformat": 2,
  "kernelspec": {
   "name": "python3",
   "display_name": "Python 3.8.5 64-bit ('base': conda)",
   "metadata": {
    "interpreter": {
     "hash": "0b2f8dbf0b57b8bf044e67a58ab62fb7d7eddb3a947c0d8f65f20e027acb81aa"
    }
   }
  }
 },
 "nbformat": 4,
 "nbformat_minor": 2,
 "cells": [
  {
   "cell_type": "code",
   "execution_count": 1,
   "metadata": {},
   "outputs": [],
   "source": [
    "import random"
   ]
  },
  {
   "cell_type": "code",
   "execution_count": 2,
   "metadata": {},
   "outputs": [],
   "source": [
    "# Definir el número de elementos que tendrá la lista\n",
    "list_length = int(input('Define el número de elementos que tendrá la lista: '))"
   ]
  },
  {
   "cell_type": "code",
   "execution_count": 3,
   "metadata": {},
   "outputs": [],
   "source": [
    "# Establece el elemento que se va a buscar dentro de la lista\n",
    "objective = int(input('Qué elemento quieres buscar? '))"
   ]
  },
  {
   "cell_type": "code",
   "execution_count": 4,
   "metadata": {},
   "outputs": [
    {
     "output_type": "stream",
     "name": "stdout",
     "text": [
      "[71, 5, 18, 75, 73, 42, 69, 13, 43, 28, 16, 5, 55, 4, 86, 7, 1, 10, 100, 82, 90, 96, 33, 88, 51, 37, 99, 79, 99, 27, 57, 35, 19, 97, 55, 37, 67, 79, 18, 77, 14, 22, 45, 65, 77, 71, 30, 72, 68, 30, 52, 71, 70, 61, 13, 91, 41, 92, 30, 89, 60, 38, 76, 24, 79, 45, 16, 6, 95, 95, 37, 30, 44, 96, 96, 89, 30, 38, 77, 87, 18, 88, 27, 26, 55, 63, 37, 17, 16, 15, 60, 23, 22, 48, 63, 82, 31, 43, 34, 87, 4, 32, 82, 22, 38, 32, 10, 3, 47, 31, 49, 41, 23, 22, 21, 16, 23, 69, 29, 63, 96, 91, 94, 74, 50, 24, 68, 92, 70, 32, 62, 61, 45, 22, 15, 70, 56, 5, 78, 67, 58, 43, 77, 53, 28, 67, 75, 8, 78, 98]\n"
     ]
    }
   ],
   "source": [
    "# Crea una lista compuesta por números generados aleatoriamente\n",
    "random_list = [random.randint(1, 100) for i in range(list_length)]\n",
    "print(random_list)"
   ]
  },
  {
   "cell_type": "code",
   "execution_count": 5,
   "metadata": {},
   "outputs": [],
   "source": [
    "# Buscar en cada uno de los elementos de la lista hasta encontrar el objetivo\n",
    "def linear_search(elements_list, element_to_search):\n",
    "    match = False\n",
    "\n",
    "    for i in random_list:\n",
    "        if i == objective:\n",
    "            match = True\n",
    "            break\n",
    "    return match"
   ]
  },
  {
   "cell_type": "code",
   "execution_count": 6,
   "metadata": {},
   "outputs": [
    {
     "output_type": "stream",
     "name": "stdout",
     "text": [
      "El elemento 23 esta en la lista\n"
     ]
    }
   ],
   "source": [
    "# Mostrar si se encontro o no el elemento buscado\n",
    "is_found = linear_search(random_list, objective)\n",
    "print(f'El elemento {objective} {\"esta\" if is_found else \"no esta\"} en la lista')"
   ]
  }
 ]
}